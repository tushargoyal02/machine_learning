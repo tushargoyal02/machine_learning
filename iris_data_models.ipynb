{
  "nbformat": 4,
  "nbformat_minor": 0,
  "metadata": {
    "colab": {
      "name": "Untitled1.ipynb",
      "version": "0.3.2",
      "provenance": [],
      "include_colab_link": true
    },
    "kernelspec": {
      "name": "python3",
      "display_name": "Python 3"
    }
  },
  "cells": [
    {
      "cell_type": "markdown",
      "metadata": {
        "id": "view-in-github",
        "colab_type": "text"
      },
      "source": [
        "<a href=\"https://colab.research.google.com/github/tushargoyal02/machine_learning/blob/supervisedML/iris_data_models.ipynb\" target=\"_parent\"><img src=\"https://colab.research.google.com/assets/colab-badge.svg\" alt=\"Open In Colab\"/></a>"
      ]
    },
    {
      "cell_type": "code",
      "metadata": {
        "id": "abAfDrBEfw1I",
        "colab_type": "code",
        "colab": {}
      },
      "source": [
        "# loading iris data set\n",
        "from sklearn.datasets import load_iris"
      ],
      "execution_count": 0,
      "outputs": []
    },
    {
      "cell_type": "code",
      "metadata": {
        "id": "GR5w7nyVgCKl",
        "colab_type": "code",
        "colab": {}
      },
      "source": [
        "# loading into a variable\n",
        "iris_data = load_iris()"
      ],
      "execution_count": 0,
      "outputs": []
    },
    {
      "cell_type": "code",
      "metadata": {
        "id": "-kwX3d-kgZbq",
        "colab_type": "code",
        "colab": {
          "base_uri": "https://localhost:8080/",
          "height": 34
        },
        "outputId": "0c143068-9e7c-4f3a-ba3a-65980c1a1c1b"
      },
      "source": [
        "# describig iris data\n",
        "dir(iris_data)"
      ],
      "execution_count": 5,
      "outputs": [
        {
          "output_type": "execute_result",
          "data": {
            "text/plain": [
              "['DESCR', 'data', 'feature_names', 'filename', 'target', 'target_names']"
            ]
          },
          "metadata": {
            "tags": []
          },
          "execution_count": 5
        }
      ]
    },
    {
      "cell_type": "code",
      "metadata": {
        "id": "BuIpsjfwghXE",
        "colab_type": "code",
        "colab": {
          "base_uri": "https://localhost:8080/",
          "height": 34
        },
        "outputId": "b2212ddb-7a55-48f1-cf8b-a731a5574794"
      },
      "source": [
        "iris_data.target_names"
      ],
      "execution_count": 7,
      "outputs": [
        {
          "output_type": "execute_result",
          "data": {
            "text/plain": [
              "array(['setosa', 'versicolor', 'virginica'], dtype='<U10')"
            ]
          },
          "metadata": {
            "tags": []
          },
          "execution_count": 7
        }
      ]
    },
    {
      "cell_type": "code",
      "metadata": {
        "id": "ehrhV9SYhNLk",
        "colab_type": "code",
        "colab": {
          "base_uri": "https://localhost:8080/",
          "height": 86
        },
        "outputId": "bb225414-9a53-4e58-cf86-9200a050edef"
      },
      "source": [
        "iris_data.feature_names"
      ],
      "execution_count": 8,
      "outputs": [
        {
          "output_type": "execute_result",
          "data": {
            "text/plain": [
              "['sepal length (cm)',\n",
              " 'sepal width (cm)',\n",
              " 'petal length (cm)',\n",
              " 'petal width (cm)']"
            ]
          },
          "metadata": {
            "tags": []
          },
          "execution_count": 8
        }
      ]
    },
    {
      "cell_type": "code",
      "metadata": {
        "id": "KgrTEoGqhShX",
        "colab_type": "code",
        "colab": {}
      },
      "source": [
        "iris_features = iris_data.data"
      ],
      "execution_count": 0,
      "outputs": []
    },
    {
      "cell_type": "code",
      "metadata": {
        "id": "4A8xppNAhV_H",
        "colab_type": "code",
        "colab": {}
      },
      "source": [
        "label = iris_data.target"
      ],
      "execution_count": 0,
      "outputs": []
    },
    {
      "cell_type": "code",
      "metadata": {
        "id": "41OIsSNNhbZb",
        "colab_type": "code",
        "colab": {}
      },
      "source": [
        ""
      ],
      "execution_count": 0,
      "outputs": []
    },
    {
      "cell_type": "markdown",
      "metadata": {
        "id": "XHKxHJFBhuMB",
        "colab_type": "text"
      },
      "source": [
        "Plot here the graph\n"
      ]
    },
    {
      "cell_type": "code",
      "metadata": {
        "id": "gaW2ji_Phv3m",
        "colab_type": "code",
        "colab": {}
      },
      "source": [
        "from sklearn.model_selection import train_test_split"
      ],
      "execution_count": 0,
      "outputs": []
    },
    {
      "cell_type": "code",
      "metadata": {
        "id": "cPLEMIbXiHTf",
        "colab_type": "code",
        "colab": {}
      },
      "source": [
        "train_data, test_data, train_label, test_label=  train_test_split(iris_features, label, test_size=0.2)"
      ],
      "execution_count": 0,
      "outputs": []
    },
    {
      "cell_type": "code",
      "metadata": {
        "id": "mBTWIbPzimfI",
        "colab_type": "code",
        "colab": {}
      },
      "source": [
        "# importing knn classifier\n",
        "from sklearn.neighbors import KNeighborsClassifier\n"
      ],
      "execution_count": 0,
      "outputs": []
    },
    {
      "cell_type": "code",
      "metadata": {
        "id": "3MF-wlKFkSYR",
        "colab_type": "code",
        "colab": {}
      },
      "source": [
        "# providng k value\n",
        "kclf = KNeighborsClassifier(n_neighbors=6)"
      ],
      "execution_count": 0,
      "outputs": []
    },
    {
      "cell_type": "code",
      "metadata": {
        "id": "QjXLI_CokZfE",
        "colab_type": "code",
        "colab": {}
      },
      "source": [
        "# now applying training data\n",
        "\n",
        "k_trained=kclf.fit(train_data, train_label)"
      ],
      "execution_count": 0,
      "outputs": []
    },
    {
      "cell_type": "code",
      "metadata": {
        "id": "3xCiwbBqlFUN",
        "colab_type": "code",
        "colab": {}
      },
      "source": [
        "# predicted value\n",
        "predicted_value=k_trained.predict(test_data)"
      ],
      "execution_count": 0,
      "outputs": []
    },
    {
      "cell_type": "code",
      "metadata": {
        "id": "miXNgP9VlZCu",
        "colab_type": "code",
        "colab": {}
      },
      "source": [
        "# importing accuracy score\n",
        "from sklearn.metrics import accuracy_score"
      ],
      "execution_count": 0,
      "outputs": []
    },
    {
      "cell_type": "code",
      "metadata": {
        "id": "DYz6HPzyltuV",
        "colab_type": "code",
        "colab": {
          "base_uri": "https://localhost:8080/",
          "height": 34
        },
        "outputId": "e7463378-bbd1-4c62-8f2d-9009eef4f827"
      },
      "source": [
        "# finding the accuracy score\n",
        "score_val = accuracy_score(predicted_value, test_label)\n",
        "score_val"
      ],
      "execution_count": 26,
      "outputs": [
        {
          "output_type": "execute_result",
          "data": {
            "text/plain": [
              "0.9666666666666667"
            ]
          },
          "metadata": {
            "tags": []
          },
          "execution_count": 26
        }
      ]
    },
    {
      "cell_type": "code",
      "metadata": {
        "id": "R3c8WN4YlzaX",
        "colab_type": "code",
        "colab": {}
      },
      "source": [
        "# calling decision tree\n",
        "\n",
        "\n",
        "from sklearn.tree import DecisionTreeClassifier\n"
      ],
      "execution_count": 0,
      "outputs": []
    },
    {
      "cell_type": "code",
      "metadata": {
        "id": "jFwadDNYmS5s",
        "colab_type": "code",
        "colab": {}
      },
      "source": [
        "dclf = DecisionTreeClassifier()"
      ],
      "execution_count": 0,
      "outputs": []
    },
    {
      "cell_type": "code",
      "metadata": {
        "id": "8xA3p1Q7mVAL",
        "colab_type": "code",
        "colab": {}
      },
      "source": [
        "d_trained = dclf.fit(train_data, train_label)"
      ],
      "execution_count": 0,
      "outputs": []
    },
    {
      "cell_type": "code",
      "metadata": {
        "id": "ut8OG3FTmcip",
        "colab_type": "code",
        "colab": {}
      },
      "source": [
        "d_predicted = dclf.predict(test_data)\n"
      ],
      "execution_count": 0,
      "outputs": []
    },
    {
      "cell_type": "code",
      "metadata": {
        "id": "ieUYoeWLmh-c",
        "colab_type": "code",
        "colab": {
          "base_uri": "https://localhost:8080/",
          "height": 34
        },
        "outputId": "167da93b-cc56-4fea-b1ca-bced9d4f1409"
      },
      "source": [
        "d_accuracy = accuracy_score(d_predicted, test_label)\n",
        "d_accuracy"
      ],
      "execution_count": 32,
      "outputs": [
        {
          "output_type": "execute_result",
          "data": {
            "text/plain": [
              "0.9666666666666667"
            ]
          },
          "metadata": {
            "tags": []
          },
          "execution_count": 32
        }
      ]
    },
    {
      "cell_type": "code",
      "metadata": {
        "id": "pFWiOjphmpET",
        "colab_type": "code",
        "colab": {}
      },
      "source": [
        "import matplotlib.pyplot as plt"
      ],
      "execution_count": 0,
      "outputs": []
    },
    {
      "cell_type": "code",
      "metadata": {
        "id": "ivRy5N6yoEKK",
        "colab_type": "code",
        "colab": {
          "base_uri": "https://localhost:8080/",
          "height": 538
        },
        "outputId": "71ff2dc4-2a76-4ccc-b880-93887331ed3a"
      },
      "source": [
        "test_data"
      ],
      "execution_count": 46,
      "outputs": [
        {
          "output_type": "execute_result",
          "data": {
            "text/plain": [
              "array([[6. , 2.7, 5.1, 1.6],\n",
              "       [7.3, 2.9, 6.3, 1.8],\n",
              "       [4.9, 3.1, 1.5, 0.1],\n",
              "       [6.9, 3.1, 5.1, 2.3],\n",
              "       [6.1, 2.6, 5.6, 1.4],\n",
              "       [5. , 3.5, 1.3, 0.3],\n",
              "       [6.7, 3.3, 5.7, 2.5],\n",
              "       [5.6, 2.9, 3.6, 1.3],\n",
              "       [5.5, 2.6, 4.4, 1.2],\n",
              "       [5.4, 3.4, 1.7, 0.2],\n",
              "       [5.2, 2.7, 3.9, 1.4],\n",
              "       [7.7, 2.8, 6.7, 2. ],\n",
              "       [5.8, 2.7, 5.1, 1.9],\n",
              "       [4.8, 3.4, 1.9, 0.2],\n",
              "       [4.8, 3.4, 1.6, 0.2],\n",
              "       [6.7, 3. , 5.2, 2.3],\n",
              "       [4.9, 3.6, 1.4, 0.1],\n",
              "       [5.1, 3.5, 1.4, 0.2],\n",
              "       [5.4, 3.4, 1.5, 0.4],\n",
              "       [5.9, 3. , 5.1, 1.8],\n",
              "       [6.3, 2.9, 5.6, 1.8],\n",
              "       [4.8, 3. , 1.4, 0.3],\n",
              "       [5.7, 3. , 4.2, 1.2],\n",
              "       [6.9, 3.2, 5.7, 2.3],\n",
              "       [5.7, 4.4, 1.5, 0.4],\n",
              "       [5. , 3.4, 1.6, 0.4],\n",
              "       [7.4, 2.8, 6.1, 1.9],\n",
              "       [6.2, 2.9, 4.3, 1.3],\n",
              "       [5.1, 3.8, 1.9, 0.4],\n",
              "       [5.1, 2.5, 3. , 1.1]])"
            ]
          },
          "metadata": {
            "tags": []
          },
          "execution_count": 46
        }
      ]
    },
    {
      "cell_type": "code",
      "metadata": {
        "id": "PuyxxOkamvbC",
        "colab_type": "code",
        "colab": {
          "base_uri": "https://localhost:8080/",
          "height": 356
        },
        "outputId": "479e440d-cedd-4077-8349-9fbf86907fde"
      },
      "source": [
        "plt.hist(d_accuracy)"
      ],
      "execution_count": 45,
      "outputs": [
        {
          "output_type": "execute_result",
          "data": {
            "text/plain": [
              "(array([0., 0., 0., 0., 0., 1., 0., 0., 0., 0.]),\n",
              " array([0.46666667, 0.56666667, 0.66666667, 0.76666667, 0.86666667,\n",
              "        0.96666667, 1.06666667, 1.16666667, 1.26666667, 1.36666667,\n",
              "        1.46666667]),\n",
              " <a list of 10 Patch objects>)"
            ]
          },
          "metadata": {
            "tags": []
          },
          "execution_count": 45
        },
        {
          "output_type": "display_data",
          "data": {
            "image/png": "[encoded data removed]",
            "text/plain": [
              "<Figure size 432x288 with 1 Axes>"
            ]
          },
          "metadata": {
            "tags": []
          }
        }
      ]
    },
    {
      "cell_type": "code",
      "metadata": {
        "id": "85PfEWB3oCq6",
        "colab_type": "code",
        "colab": {}
      },
      "source": [
        ""
      ],
      "execution_count": 0,
      "outputs": []
    },
    {
      "cell_type": "code",
      "metadata": {
        "id": "lAg_f-5QmzEa",
        "colab_type": "code",
        "colab": {}
      },
      "source": [
        ""
      ],
      "execution_count": 0,
      "outputs": []
    }
  ]
}